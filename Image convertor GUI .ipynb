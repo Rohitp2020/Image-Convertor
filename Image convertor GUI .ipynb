{
 "cells": [
  {
   "cell_type": "code",
   "execution_count": null,
   "metadata": {},
   "outputs": [],
   "source": [
    "import tkinter as tk      ## 'tkinter' is the fastest and easiest way to create the GUI applications\n",
    "\n",
    "from tkinter import filedialog\n",
    "\n",
    "from PIL import Image     ## PIL is the Python Imaging Library which provides the python interpreter with image editing capabilities. ... The module also provides a number of factory functions, including functions to load images from files, and to create new images"
   ]
  },
  {
   "cell_type": "code",
   "execution_count": null,
   "metadata": {},
   "outputs": [],
   "source": [
    "root = tk.Tk()            ## 'Tk' class is used to create a root window. Frame is a container for other widgets.\n",
    "\n",
    "canvas1 = tk.Canvas(root, width=300, height=250, bg='azure3', relief='raised')   ## The Canvas is a rectangular area intended for drawing pictures or other complex layouts. You can place graphics, text, widgets or frames on a Canvas.\n",
    "\n",
    "canvas1.pack()            ## The Pack geometry manager packs widgets in rows or columns. ... Put a widget inside a frame (or any other container widget), and have it fill the entire frame. Place a number of widgets on top of each other. Place a number of widgets side by side "
   ]
  },
  {
   "cell_type": "code",
   "execution_count": null,
   "metadata": {},
   "outputs": [],
   "source": [
    "label1 = tk.Label(root, text=\"Image Converter\", bg='azure3')    ## Tkinter Label is a widget that is used to implement display boxes where you can place text or images. The text displayed by this widget can be changed by the developer at any time you want.\n",
    "\n",
    "label1.config(font=('helvetica', 20))\n",
    "\n",
    "canvas1.create_window(150, 60, window=label1)"
   ]
  },
  {
   "cell_type": "code",
   "execution_count": null,
   "metadata": {},
   "outputs": [],
   "source": [
    "def getPNG():\n",
    "    global im1\n",
    "    import_file_path = filedialog.askopenfilename()\n",
    "    im1 = Image.open(import_file_path)\n",
    "    "
   ]
  },
  {
   "cell_type": "code",
   "execution_count": null,
   "metadata": {},
   "outputs": [],
   "source": [
    "browse_png = tk.Button(text=\"Select PNG file\", command=getPNG, bg=\"royalblue\", fg='white', font=('helvetica', 12, 'bold'))\n",
    "canvas1.create_window(150, 130, window=browse_png)"
   ]
  },
  {
   "cell_type": "code",
   "execution_count": null,
   "metadata": {},
   "outputs": [],
   "source": [
    "def convert():\n",
    "    global im1\n",
    "    export_file_path = filedialog.asksaveasfilename(defaultextension='.jpg')\n",
    "    im1.save(export_file_path)"
   ]
  },
  {
   "cell_type": "code",
   "execution_count": null,
   "metadata": {},
   "outputs": [],
   "source": [
    "saveasbutton = tk.Button(text=\"Convert PNG to JPG\", command=convert, bg='royalblue', fg='white', font=('helvetica', 12, 'bold'))\n",
    "canvas1.create_window(150, 180, window=saveasbutton)\n",
    "root.mainloop()"
   ]
  },
  {
   "cell_type": "code",
   "execution_count": null,
   "metadata": {},
   "outputs": [],
   "source": []
  }
 ],
 "metadata": {
  "kernelspec": {
   "display_name": "Python 3",
   "language": "python",
   "name": "python3"
  },
  "language_info": {
   "codemirror_mode": {
    "name": "ipython",
    "version": 3
   },
   "file_extension": ".py",
   "mimetype": "text/x-python",
   "name": "python",
   "nbconvert_exporter": "python",
   "pygments_lexer": "ipython3",
   "version": "3.7.6"
  }
 },
 "nbformat": 4,
 "nbformat_minor": 4
}
